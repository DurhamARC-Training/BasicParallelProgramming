{
  "nbformat": 4,
  "nbformat_minor": 0,
  "metadata": {
    "colab": {
      "provenance": [],
      "authorship_tag": "ABX9TyPGb8xLe2mnitnlJ7/07Z2D",
      "include_colab_link": true
    },
    "kernelspec": {
      "name": "python3",
      "display_name": "Python 3"
    },
    "language_info": {
      "name": "python"
    }
  },
  "cells": [
    {
      "cell_type": "markdown",
      "metadata": {
        "id": "view-in-github",
        "colab_type": "text"
      },
      "source": [
        "<a href=\"https://colab.research.google.com/github/DurhamARC/BasicParallelProgramming/blob/main/parallel.ipynb\" target=\"_parent\"><img src=\"https://colab.research.google.com/assets/colab-badge.svg\" alt=\"Open In Colab\"/></a>"
      ]
    },
    {
      "cell_type": "markdown",
      "source": [
        "# Setup\n",
        "In Google Colab, you automatically operate with root privileges, which can cause issues with running `mpirun` (because you have root privileges by default). These preliminary steps enable MPI to compile and run as a non-root user:\n",
        "\n",
        "1.   Create a Non-Root User\n",
        "\n",
        "`!adduser --disabled-password --gecos \"\" <username>`\n",
        "2.   Switch to the New User and Run the Command\n",
        "\n",
        "`!sudo -u <username> mpirun -np 2 <program>`"
      ],
      "metadata": {
        "id": "RyDp7cISydIN"
      }
    },
    {
      "cell_type": "code",
      "source": [
        "!adduser --disabled-password --gecos \"\" dnikola"
      ],
      "metadata": {
        "id": "VHY3NkqoGOmY"
      },
      "execution_count": null,
      "outputs": []
    },
    {
      "cell_type": "code",
      "source": [
        "!cd /content"
      ],
      "metadata": {
        "id": "QxMFiwsPf2WV"
      },
      "execution_count": null,
      "outputs": []
    },
    {
      "cell_type": "code",
      "source": [
        "pwd"
      ],
      "metadata": {
        "id": "6k7mOzAvgckb"
      },
      "execution_count": null,
      "outputs": []
    },
    {
      "cell_type": "code",
      "source": [
        "!git clone https://github.com/DurhamARC/BasicParallelProgramming.git"
      ],
      "metadata": {
        "id": "s9E9Qxc-wjPL"
      },
      "execution_count": null,
      "outputs": []
    },
    {
      "cell_type": "code",
      "source": [
        "ls"
      ],
      "metadata": {
        "id": "iom8ZhcZ2Aab"
      },
      "execution_count": null,
      "outputs": []
    },
    {
      "cell_type": "code",
      "source": [
        "%cd BasicParallelProgramming"
      ],
      "metadata": {
        "id": "B0-3ZFSO6I36"
      },
      "execution_count": null,
      "outputs": []
    },
    {
      "cell_type": "code",
      "source": [
        "%cd mpi/solutions0"
      ],
      "metadata": {
        "id": "4laD0SM72wfi"
      },
      "execution_count": null,
      "outputs": []
    },
    {
      "cell_type": "code",
      "source": [
        "ls"
      ],
      "metadata": {
        "id": "BHq03_5m3FIA"
      },
      "execution_count": null,
      "outputs": []
    },
    {
      "cell_type": "code",
      "source": [
        "!mpicc helloworld.c"
      ],
      "metadata": {
        "id": "pvv-lDMl5MLn"
      },
      "execution_count": null,
      "outputs": []
    },
    {
      "cell_type": "code",
      "source": [
        "!sudo -u dnikola mpirun -np 2 --host localhost:2 ./a.out"
      ],
      "metadata": {
        "id": "30HrR0wNrGNV"
      },
      "execution_count": null,
      "outputs": []
    },
    {
      "cell_type": "code",
      "source": [
        "!sudo -u dnikola mpicc simple-example.c"
      ],
      "metadata": {
        "id": "_efBNY7O5o6c"
      },
      "execution_count": null,
      "outputs": []
    },
    {
      "cell_type": "code",
      "source": [
        "!sudo -u dnikola mpirun -np 2 --host localhost:2 a.out"
      ],
      "metadata": {
        "id": "ZACbD6xr5qP2"
      },
      "execution_count": null,
      "outputs": []
    },
    {
      "cell_type": "code",
      "source": [
        "colab.research.google.com"
      ],
      "metadata": {
        "id": "m8Q2E9KM9lLE"
      },
      "execution_count": null,
      "outputs": []
    }
  ]
}